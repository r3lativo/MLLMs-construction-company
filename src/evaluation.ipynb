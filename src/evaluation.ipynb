{
 "cells": [
  {
   "cell_type": "code",
   "execution_count": 1,
   "metadata": {},
   "outputs": [
    {
     "name": "stderr",
     "output_type": "stream",
     "text": [
      "/home/r3lativo/miniconda3/envs/mllms-con/lib/python3.12/site-packages/tqdm/auto.py:21: TqdmWarning: IProgress not found. Please update jupyter and ipywidgets. See https://ipywidgets.readthedocs.io/en/stable/user_install.html\n",
      "  from .autonotebook import tqdm as notebook_tqdm\n"
     ]
    }
   ],
   "source": [
    "from judge_utils import *\n"
   ]
  },
  {
   "cell_type": "code",
   "execution_count": 2,
   "metadata": {},
   "outputs": [],
   "source": [
    "results_data = load_all_results(results_path)"
   ]
  },
  {
   "cell_type": "code",
   "execution_count": 3,
   "metadata": {},
   "outputs": [],
   "source": [
    "def analyze_run(cmd, json_file_name):\n",
    "  json_path = os.path.join(results_path, json_file_name)\n",
    "  parsed_conversation, builder_actions = extract_conversation_data(json_path)\n",
    "  evaluation = ask_judge(cmd, parsed_conversation)\n",
    "  try:\n",
    "    return int(evaluation)\n",
    "  except ValueError:\n",
    "    return \"Not a number\"\n",
    "  "
   ]
  },
  {
   "cell_type": "code",
   "execution_count": 4,
   "metadata": {},
   "outputs": [],
   "source": [
    "results_data[\"BASE\"] = results_data[\"json_file\"].apply(lambda x: analyze_run(\"BASE\", x))"
   ]
  },
  {
   "cell_type": "code",
   "execution_count": 5,
   "metadata": {},
   "outputs": [],
   "source": [
    "results_data[\"CLAR_Q\"] = results_data[\"json_file\"].apply(lambda x: analyze_run(\"CLAR_Q\", x))"
   ]
  },
  {
   "cell_type": "code",
   "execution_count": 6,
   "metadata": {},
   "outputs": [],
   "source": [
    "results_data[\"COMM_SH_REF\"] = results_data[\"json_file\"].apply(lambda x: analyze_run(\"COMM_SH_REF\", x))"
   ]
  },
  {
   "cell_type": "code",
   "execution_count": 7,
   "metadata": {},
   "outputs": [],
   "source": [
    "results_data[\"IMPL_REF\"] = results_data[\"json_file\"].apply(lambda x: analyze_run(\"IMPL_REF\", x))"
   ]
  },
  {
   "cell_type": "code",
   "execution_count": 8,
   "metadata": {},
   "outputs": [
    {
     "data": {
      "text/html": [
       "<div>\n",
       "<style scoped>\n",
       "    .dataframe tbody tr th:only-of-type {\n",
       "        vertical-align: middle;\n",
       "    }\n",
       "\n",
       "    .dataframe tbody tr th {\n",
       "        vertical-align: top;\n",
       "    }\n",
       "\n",
       "    .dataframe thead th {\n",
       "        text-align: right;\n",
       "    }\n",
       "</style>\n",
       "<table border=\"1\" class=\"dataframe\">\n",
       "  <thead>\n",
       "    <tr style=\"text-align: right;\">\n",
       "      <th></th>\n",
       "      <th>run_time</th>\n",
       "      <th>structure_name</th>\n",
       "      <th>json_file</th>\n",
       "      <th>Model</th>\n",
       "      <th>Quantization</th>\n",
       "      <th>Device</th>\n",
       "      <th>Number of models</th>\n",
       "      <th>Max new tokens</th>\n",
       "      <th>Repetition Penalty</th>\n",
       "      <th>Max rounds</th>\n",
       "      <th>use_img</th>\n",
       "      <th>use_json</th>\n",
       "      <th>num_rounds</th>\n",
       "      <th>total_round_time_min</th>\n",
       "      <th>finished_by_architect</th>\n",
       "      <th>BASE</th>\n",
       "      <th>CLAR_Q</th>\n",
       "      <th>COMM_SH_REF</th>\n",
       "      <th>IMPL_REF</th>\n",
       "    </tr>\n",
       "  </thead>\n",
       "  <tbody>\n",
       "    <tr>\n",
       "      <th>0</th>\n",
       "      <td>2025-02-12-1445-39</td>\n",
       "      <td>C15_double_stairs</td>\n",
       "      <td>2025-02-12-1445-39_C15_double_stairs.json</td>\n",
       "      <td>llava-hf/llava-v1.6-mistral-7b-hf</td>\n",
       "      <td>4-bit</td>\n",
       "      <td>cuda</td>\n",
       "      <td>2</td>\n",
       "      <td>2048</td>\n",
       "      <td>1.1</td>\n",
       "      <td>50</td>\n",
       "      <td>True</td>\n",
       "      <td>True</td>\n",
       "      <td>17</td>\n",
       "      <td>104.0</td>\n",
       "      <td>False</td>\n",
       "      <td>Not a number</td>\n",
       "      <td>Not a number</td>\n",
       "      <td>Not a number</td>\n",
       "      <td>Not a number</td>\n",
       "    </tr>\n",
       "    <tr>\n",
       "      <th>1</th>\n",
       "      <td>2025-02-11-1829-56</td>\n",
       "      <td>C1_bell</td>\n",
       "      <td>2025-02-11-1829-56_C1_bell.json</td>\n",
       "      <td>llava-hf/llava-v1.6-mistral-7b-hf</td>\n",
       "      <td>4-bit</td>\n",
       "      <td>cuda</td>\n",
       "      <td>2</td>\n",
       "      <td>2048</td>\n",
       "      <td>1.1</td>\n",
       "      <td>50</td>\n",
       "      <td>True</td>\n",
       "      <td>False</td>\n",
       "      <td>5</td>\n",
       "      <td>1.0</td>\n",
       "      <td>True</td>\n",
       "      <td>2</td>\n",
       "      <td>Not a number</td>\n",
       "      <td>Not a number</td>\n",
       "      <td>Not a number</td>\n",
       "    </tr>\n",
       "  </tbody>\n",
       "</table>\n",
       "</div>"
      ],
      "text/plain": [
       "             run_time     structure_name  \\\n",
       "0  2025-02-12-1445-39  C15_double_stairs   \n",
       "1  2025-02-11-1829-56            C1_bell   \n",
       "\n",
       "                                   json_file  \\\n",
       "0  2025-02-12-1445-39_C15_double_stairs.json   \n",
       "1            2025-02-11-1829-56_C1_bell.json   \n",
       "\n",
       "                               Model Quantization Device Number of models  \\\n",
       "0  llava-hf/llava-v1.6-mistral-7b-hf        4-bit   cuda                2   \n",
       "1  llava-hf/llava-v1.6-mistral-7b-hf        4-bit   cuda                2   \n",
       "\n",
       "  Max new tokens Repetition Penalty Max rounds use_img use_json  num_rounds  \\\n",
       "0           2048                1.1         50    True     True          17   \n",
       "1           2048                1.1         50    True    False           5   \n",
       "\n",
       "   total_round_time_min  finished_by_architect          BASE        CLAR_Q  \\\n",
       "0                 104.0                  False  Not a number  Not a number   \n",
       "1                   1.0                   True             2  Not a number   \n",
       "\n",
       "    COMM_SH_REF      IMPL_REF  \n",
       "0  Not a number  Not a number  \n",
       "1  Not a number  Not a number  "
      ]
     },
     "execution_count": 8,
     "metadata": {},
     "output_type": "execute_result"
    }
   ],
   "source": [
    "results_data"
   ]
  }
 ],
 "metadata": {
  "kernelspec": {
   "display_name": "mllms-con",
   "language": "python",
   "name": "python3"
  },
  "language_info": {
   "codemirror_mode": {
    "name": "ipython",
    "version": 3
   },
   "file_extension": ".py",
   "mimetype": "text/x-python",
   "name": "python",
   "nbconvert_exporter": "python",
   "pygments_lexer": "ipython3",
   "version": "3.12.8"
  }
 },
 "nbformat": 4,
 "nbformat_minor": 2
}
